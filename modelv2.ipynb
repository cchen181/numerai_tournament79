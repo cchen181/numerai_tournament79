{
 "cells": [
  {
   "cell_type": "markdown",
   "metadata": {},
   "source": [
    "Script to explore the data, create a model, and validate said model using the training data set."
   ]
  },
  {
   "cell_type": "code",
   "execution_count": 1,
   "metadata": {},
   "outputs": [
    {
     "name": "stdout",
     "output_type": "stream",
     "text": [
      "dimensions:\n",
      "(535713, 54)\n",
      "rows:\n",
      "535713\n",
      "columns:\n",
      "54\n"
     ]
    }
   ],
   "source": [
    "#import libraries\n",
    "import pandas as pd\n",
    "import numpy as np\n",
    "#import matplotlib.pyplot as plt\n",
    "#%matplotlib inline\n",
    "\n",
    "#read data\n",
    "data = pd.read_csv('./numerai_training_data.csv')\n",
    "\n",
    "#size and type, data\n",
    "print('dimensions:')\n",
    "print(data.shape)\n",
    "print('rows:')\n",
    "nrows=data.shape[0]\n",
    "print(nrows)\n",
    "print('columns:')\n",
    "ncols=data.shape[1]\n",
    "print(ncols) "
   ]
  },
  {
   "cell_type": "code",
   "execution_count": 2,
   "metadata": {
    "scrolled": true
   },
   "outputs": [
    {
     "data": {
      "text/html": [
       "<div>\n",
       "<style>\n",
       "    .dataframe thead tr:only-child th {\n",
       "        text-align: right;\n",
       "    }\n",
       "\n",
       "    .dataframe thead th {\n",
       "        text-align: left;\n",
       "    }\n",
       "\n",
       "    .dataframe tbody tr th {\n",
       "        vertical-align: top;\n",
       "    }\n",
       "</style>\n",
       "<table border=\"1\" class=\"dataframe\">\n",
       "  <thead>\n",
       "    <tr style=\"text-align: right;\">\n",
       "      <th></th>\n",
       "      <th>id</th>\n",
       "      <th>era</th>\n",
       "      <th>data_type</th>\n",
       "      <th>feature1</th>\n",
       "      <th>feature2</th>\n",
       "      <th>feature3</th>\n",
       "      <th>feature4</th>\n",
       "      <th>feature5</th>\n",
       "      <th>feature6</th>\n",
       "      <th>feature7</th>\n",
       "      <th>...</th>\n",
       "      <th>feature42</th>\n",
       "      <th>feature43</th>\n",
       "      <th>feature44</th>\n",
       "      <th>feature45</th>\n",
       "      <th>feature46</th>\n",
       "      <th>feature47</th>\n",
       "      <th>feature48</th>\n",
       "      <th>feature49</th>\n",
       "      <th>feature50</th>\n",
       "      <th>target</th>\n",
       "    </tr>\n",
       "  </thead>\n",
       "  <tbody>\n",
       "    <tr>\n",
       "      <th>0</th>\n",
       "      <td>nb5059fbc40534a1</td>\n",
       "      <td>era1</td>\n",
       "      <td>train</td>\n",
       "      <td>0.49282</td>\n",
       "      <td>0.58077</td>\n",
       "      <td>0.48948</td>\n",
       "      <td>0.56762</td>\n",
       "      <td>0.56107</td>\n",
       "      <td>0.51168</td>\n",
       "      <td>0.47459</td>\n",
       "      <td>...</td>\n",
       "      <td>0.40333</td>\n",
       "      <td>0.52337</td>\n",
       "      <td>0.60795</td>\n",
       "      <td>0.35748</td>\n",
       "      <td>0.49677</td>\n",
       "      <td>0.28295</td>\n",
       "      <td>0.65342</td>\n",
       "      <td>0.57915</td>\n",
       "      <td>0.51136</td>\n",
       "      <td>1</td>\n",
       "    </tr>\n",
       "    <tr>\n",
       "      <th>1</th>\n",
       "      <td>nb2bb43f474f2429</td>\n",
       "      <td>era1</td>\n",
       "      <td>train</td>\n",
       "      <td>0.53427</td>\n",
       "      <td>0.72712</td>\n",
       "      <td>0.61895</td>\n",
       "      <td>0.66238</td>\n",
       "      <td>0.47163</td>\n",
       "      <td>0.66996</td>\n",
       "      <td>0.37673</td>\n",
       "      <td>...</td>\n",
       "      <td>0.46847</td>\n",
       "      <td>0.44557</td>\n",
       "      <td>0.64831</td>\n",
       "      <td>0.28245</td>\n",
       "      <td>0.68554</td>\n",
       "      <td>0.26547</td>\n",
       "      <td>0.59322</td>\n",
       "      <td>0.53156</td>\n",
       "      <td>0.61621</td>\n",
       "      <td>0</td>\n",
       "    </tr>\n",
       "    <tr>\n",
       "      <th>2</th>\n",
       "      <td>n1e960207daad44a</td>\n",
       "      <td>era1</td>\n",
       "      <td>train</td>\n",
       "      <td>0.54888</td>\n",
       "      <td>0.46304</td>\n",
       "      <td>0.49582</td>\n",
       "      <td>0.52395</td>\n",
       "      <td>0.57362</td>\n",
       "      <td>0.46969</td>\n",
       "      <td>0.50229</td>\n",
       "      <td>...</td>\n",
       "      <td>0.74065</td>\n",
       "      <td>0.41003</td>\n",
       "      <td>0.43230</td>\n",
       "      <td>0.78286</td>\n",
       "      <td>0.52214</td>\n",
       "      <td>0.43961</td>\n",
       "      <td>0.46139</td>\n",
       "      <td>0.61272</td>\n",
       "      <td>0.72566</td>\n",
       "      <td>1</td>\n",
       "    </tr>\n",
       "    <tr>\n",
       "      <th>3</th>\n",
       "      <td>n5e99b4326e6f463</td>\n",
       "      <td>era1</td>\n",
       "      <td>train</td>\n",
       "      <td>0.64488</td>\n",
       "      <td>0.56167</td>\n",
       "      <td>0.72591</td>\n",
       "      <td>0.52219</td>\n",
       "      <td>0.49311</td>\n",
       "      <td>0.51511</td>\n",
       "      <td>0.45514</td>\n",
       "      <td>...</td>\n",
       "      <td>0.67751</td>\n",
       "      <td>0.43340</td>\n",
       "      <td>0.67009</td>\n",
       "      <td>0.50086</td>\n",
       "      <td>0.51208</td>\n",
       "      <td>0.58674</td>\n",
       "      <td>0.54358</td>\n",
       "      <td>0.58602</td>\n",
       "      <td>0.51818</td>\n",
       "      <td>0</td>\n",
       "    </tr>\n",
       "    <tr>\n",
       "      <th>4</th>\n",
       "      <td>nf454131816e5401</td>\n",
       "      <td>era1</td>\n",
       "      <td>train</td>\n",
       "      <td>0.45235</td>\n",
       "      <td>0.56569</td>\n",
       "      <td>0.54424</td>\n",
       "      <td>0.34145</td>\n",
       "      <td>0.67652</td>\n",
       "      <td>0.44318</td>\n",
       "      <td>0.45627</td>\n",
       "      <td>...</td>\n",
       "      <td>0.40709</td>\n",
       "      <td>0.58624</td>\n",
       "      <td>0.44531</td>\n",
       "      <td>0.66276</td>\n",
       "      <td>0.41992</td>\n",
       "      <td>0.58741</td>\n",
       "      <td>0.62276</td>\n",
       "      <td>0.31212</td>\n",
       "      <td>0.22357</td>\n",
       "      <td>0</td>\n",
       "    </tr>\n",
       "  </tbody>\n",
       "</table>\n",
       "<p>5 rows × 54 columns</p>\n",
       "</div>"
      ],
      "text/plain": [
       "                 id   era data_type  feature1  feature2  feature3  feature4  \\\n",
       "0  nb5059fbc40534a1  era1     train   0.49282   0.58077   0.48948   0.56762   \n",
       "1  nb2bb43f474f2429  era1     train   0.53427   0.72712   0.61895   0.66238   \n",
       "2  n1e960207daad44a  era1     train   0.54888   0.46304   0.49582   0.52395   \n",
       "3  n5e99b4326e6f463  era1     train   0.64488   0.56167   0.72591   0.52219   \n",
       "4  nf454131816e5401  era1     train   0.45235   0.56569   0.54424   0.34145   \n",
       "\n",
       "   feature5  feature6  feature7   ...    feature42  feature43  feature44  \\\n",
       "0   0.56107   0.51168   0.47459   ...      0.40333    0.52337    0.60795   \n",
       "1   0.47163   0.66996   0.37673   ...      0.46847    0.44557    0.64831   \n",
       "2   0.57362   0.46969   0.50229   ...      0.74065    0.41003    0.43230   \n",
       "3   0.49311   0.51511   0.45514   ...      0.67751    0.43340    0.67009   \n",
       "4   0.67652   0.44318   0.45627   ...      0.40709    0.58624    0.44531   \n",
       "\n",
       "   feature45  feature46  feature47  feature48  feature49  feature50  target  \n",
       "0    0.35748    0.49677    0.28295    0.65342    0.57915    0.51136       1  \n",
       "1    0.28245    0.68554    0.26547    0.59322    0.53156    0.61621       0  \n",
       "2    0.78286    0.52214    0.43961    0.46139    0.61272    0.72566       1  \n",
       "3    0.50086    0.51208    0.58674    0.54358    0.58602    0.51818       0  \n",
       "4    0.66276    0.41992    0.58741    0.62276    0.31212    0.22357       0  \n",
       "\n",
       "[5 rows x 54 columns]"
      ]
     },
     "execution_count": 2,
     "metadata": {},
     "output_type": "execute_result"
    }
   ],
   "source": [
    "#preview data\n",
    "data.head()"
   ]
  },
  {
   "cell_type": "markdown",
   "metadata": {},
   "source": [
    "From the preview above, the data is identified as a labeled training set; this is a supervised learning problem."
   ]
  },
  {
   "cell_type": "code",
   "execution_count": 3,
   "metadata": {},
   "outputs": [
    {
     "data": {
      "text/plain": [
       "id            object\n",
       "era           object\n",
       "data_type     object\n",
       "feature1     float64\n",
       "feature2     float64\n",
       "feature3     float64\n",
       "feature4     float64\n",
       "feature5     float64\n",
       "feature6     float64\n",
       "feature7     float64\n",
       "feature8     float64\n",
       "feature9     float64\n",
       "feature10    float64\n",
       "feature11    float64\n",
       "feature12    float64\n",
       "feature13    float64\n",
       "feature14    float64\n",
       "feature15    float64\n",
       "feature16    float64\n",
       "feature17    float64\n",
       "feature18    float64\n",
       "feature19    float64\n",
       "feature20    float64\n",
       "feature21    float64\n",
       "feature22    float64\n",
       "feature23    float64\n",
       "feature24    float64\n",
       "feature25    float64\n",
       "feature26    float64\n",
       "feature27    float64\n",
       "feature28    float64\n",
       "feature29    float64\n",
       "feature30    float64\n",
       "feature31    float64\n",
       "feature32    float64\n",
       "feature33    float64\n",
       "feature34    float64\n",
       "feature35    float64\n",
       "feature36    float64\n",
       "feature37    float64\n",
       "feature38    float64\n",
       "feature39    float64\n",
       "feature40    float64\n",
       "feature41    float64\n",
       "feature42    float64\n",
       "feature43    float64\n",
       "feature44    float64\n",
       "feature45    float64\n",
       "feature46    float64\n",
       "feature47    float64\n",
       "feature48    float64\n",
       "feature49    float64\n",
       "feature50    float64\n",
       "target         int64\n",
       "dtype: object"
      ]
     },
     "execution_count": 3,
     "metadata": {},
     "output_type": "execute_result"
    }
   ],
   "source": [
    "#data types\n",
    "data.dtypes"
   ]
  },
  {
   "cell_type": "markdown",
   "metadata": {},
   "source": [
    "There are 50 features; their data type is float. The target is an integer. There are 3 other variables (id, era, data_type) typed object."
   ]
  },
  {
   "cell_type": "code",
   "execution_count": 4,
   "metadata": {},
   "outputs": [
    {
     "name": "stdout",
     "output_type": "stream",
     "text": [
      "ID\n",
      "unique values:\n",
      "['nb5059fbc40534a1' 'nb2bb43f474f2429' 'n1e960207daad44a' ...,\n",
      " 'nc74ef5d1017b4f9' 'n47e612126c9b405' 'ncd4237ff29cb422']\n",
      "number of unique values:\n",
      "535713\n",
      "number of rows in dataset:\n",
      "535713\n"
     ]
    }
   ],
   "source": [
    "#check uniqueness of values, check for missing values and nans\n",
    "\n",
    "#id\n",
    "print('ID')\n",
    "print('unique values:')\n",
    "print(data.id.unique())\n",
    "print('number of unique values:')\n",
    "print(data.id.nunique())\n",
    "print('number of rows in dataset:')\n",
    "print(nrows)"
   ]
  },
  {
   "cell_type": "markdown",
   "metadata": {},
   "source": [
    "There is a unique ID for each row in the dataset."
   ]
  },
  {
   "cell_type": "code",
   "execution_count": 12,
   "metadata": {},
   "outputs": [
    {
     "name": "stdout",
     "output_type": "stream",
     "text": [
      "ERA\n",
      "unique values:\n",
      "['era1' 'era2' 'era3' 'era4' 'era5' 'era6' 'era7' 'era8' 'era9' 'era10'\n",
      " 'era11' 'era12' 'era13' 'era14' 'era15' 'era16' 'era17' 'era18' 'era19'\n",
      " 'era20' 'era21' 'era22' 'era23' 'era24' 'era25' 'era26' 'era27' 'era28'\n",
      " 'era29' 'era30' 'era31' 'era32' 'era33' 'era34' 'era35' 'era36' 'era37'\n",
      " 'era38' 'era39' 'era40' 'era41' 'era42' 'era43' 'era44' 'era45' 'era46'\n",
      " 'era47' 'era48' 'era49' 'era50' 'era51' 'era52' 'era53' 'era54' 'era55'\n",
      " 'era56' 'era57' 'era58' 'era59' 'era60' 'era61' 'era62' 'era63' 'era64'\n",
      " 'era65' 'era66' 'era67' 'era68' 'era69' 'era70' 'era71' 'era72' 'era73'\n",
      " 'era74' 'era75' 'era76' 'era77' 'era78' 'era79' 'era80' 'era81' 'era82'\n",
      " 'era83' 'era84' 'era85']\n",
      "number of unique values:\n",
      "85\n",
      "number of rows in dataset:\n",
      "535713\n",
      "number of value counts:\n",
      "era34    6793\n",
      "era25    6757\n",
      "era24    6749\n",
      "era31    6745\n",
      "era26    6743\n",
      "era32    6734\n",
      "era27    6717\n",
      "era33    6712\n",
      "era28    6703\n",
      "era29    6685\n",
      "era30    6679\n",
      "era23    6570\n",
      "era36    6548\n",
      "era35    6548\n",
      "era71    6473\n",
      "era70    6471\n",
      "era72    6463\n",
      "era37    6462\n",
      "era73    6460\n",
      "era74    6450\n",
      "era38    6437\n",
      "era75    6429\n",
      "era39    6428\n",
      "era77    6424\n",
      "era79    6418\n",
      "era76    6418\n",
      "era78    6391\n",
      "era80    6391\n",
      "era13    6389\n",
      "era43    6386\n",
      "         ... \n",
      "era62    6163\n",
      "era67    6158\n",
      "era60    6153\n",
      "era68    6146\n",
      "era63    6141\n",
      "era64    6136\n",
      "era69    6132\n",
      "era83    6120\n",
      "era65    6115\n",
      "era7     6114\n",
      "era82    6108\n",
      "era66    6102\n",
      "era84    6099\n",
      "era8     6099\n",
      "era85    6096\n",
      "era10    6075\n",
      "era9     6074\n",
      "era6     6060\n",
      "era46    5967\n",
      "era55    5967\n",
      "era47    5950\n",
      "era56    5946\n",
      "era52    5944\n",
      "era53    5944\n",
      "era49    5943\n",
      "era50    5942\n",
      "era51    5934\n",
      "era54    5934\n",
      "era48    5930\n",
      "era57    5927\n",
      "Name: era, Length: 85, dtype: int64\n"
     ]
    }
   ],
   "source": [
    "#era\n",
    "print('ERA')\n",
    "print('unique values:')\n",
    "print(data.era.unique())\n",
    "print('number of unique values:')\n",
    "print(data.era.nunique())\n",
    "print('number of rows in dataset:')\n",
    "print(nrows)\n",
    "print('number of value counts:')\n",
    "print(data.era.value_counts())"
   ]
  },
  {
   "cell_type": "markdown",
   "metadata": {},
   "source": [
    "The data are grouped into 85 distinct eras. The number of observations in each era range from 5927-6793."
   ]
  },
  {
   "cell_type": "code",
   "execution_count": 13,
   "metadata": {},
   "outputs": [
    {
     "name": "stdout",
     "output_type": "stream",
     "text": [
      "DATA TYPE\n",
      "unique values:\n",
      "['train']\n",
      "number of unique values:\n",
      "1\n"
     ]
    }
   ],
   "source": [
    "#data type\n",
    "print('DATA TYPE')\n",
    "print('unique values:')\n",
    "print(data.data_type.unique())\n",
    "print('number of unique values:')\n",
    "print(data.data_type.nunique())"
   ]
  },
  {
   "cell_type": "markdown",
   "metadata": {},
   "source": [
    "All data are training data."
   ]
  },
  {
   "cell_type": "code",
   "execution_count": 11,
   "metadata": {},
   "outputs": [
    {
     "name": "stdout",
     "output_type": "stream",
     "text": [
      "TARGET\n",
      "unique values:\n",
      "[1 0]\n",
      "number of unique values:\n",
      "2\n",
      "number of value counts:\n",
      "0    267878\n",
      "1    267835\n",
      "Name: target, dtype: int64\n"
     ]
    }
   ],
   "source": [
    "#target\n",
    "print('TARGET')\n",
    "print('unique values:')\n",
    "print(data.target.unique())\n",
    "print('number of unique values:')\n",
    "print(data.target.nunique())\n",
    "print('number of value counts:')\n",
    "print(data.target.value_counts())"
   ]
  },
  {
   "cell_type": "markdown",
   "metadata": {},
   "source": [
    "There are 2 distinct target values, 0 and 1. Because the target values are discrete, this is a classification problem. Based on the value counts, the data appear pretty evenly distributed between 0 and 1."
   ]
  },
  {
   "cell_type": "code",
   "execution_count": 7,
   "metadata": {},
   "outputs": [
    {
     "data": {
      "text/plain": [
       "count    535713.000000\n",
       "mean          0.472921\n",
       "std           0.113607\n",
       "min           0.000000\n",
       "25%           0.392630\n",
       "50%           0.467900\n",
       "75%           0.548840\n",
       "max           0.982560\n",
       "Name: feature1, dtype: float64"
      ]
     },
     "execution_count": 7,
     "metadata": {},
     "output_type": "execute_result"
    }
   ],
   "source": [
    "#features\n",
    "#distributions of each of the 50 features\n",
    "data.feature1.describe()"
   ]
  },
  {
   "cell_type": "code",
   "execution_count": 8,
   "metadata": {},
   "outputs": [
    {
     "data": {
      "text/plain": [
       "count    535713.000000\n",
       "mean          0.482357\n",
       "std           0.117309\n",
       "min           0.000000\n",
       "25%           0.401900\n",
       "50%           0.481960\n",
       "75%           0.561510\n",
       "max           1.000000\n",
       "Name: feature2, dtype: float64"
      ]
     },
     "execution_count": 8,
     "metadata": {},
     "output_type": "execute_result"
    }
   ],
   "source": [
    "data.feature2.describe()"
   ]
  },
  {
   "cell_type": "code",
   "execution_count": null,
   "metadata": {
    "collapsed": true
   },
   "outputs": [],
   "source": []
  }
 ],
 "metadata": {
  "kernelspec": {
   "display_name": "Python 3",
   "language": "python",
   "name": "python3"
  },
  "language_info": {
   "codemirror_mode": {
    "name": "ipython",
    "version": 3
   },
   "file_extension": ".py",
   "mimetype": "text/x-python",
   "name": "python",
   "nbconvert_exporter": "python",
   "pygments_lexer": "ipython3",
   "version": "3.6.2"
  }
 },
 "nbformat": 4,
 "nbformat_minor": 2
}
