#import libraries
pandas as pd
numpy as np

#import data
data = pd.read_csv('......')

#preview 
data.head()
